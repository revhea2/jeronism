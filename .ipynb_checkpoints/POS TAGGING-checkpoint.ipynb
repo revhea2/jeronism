{
 "cells": [
  {
   "cell_type": "code",
   "execution_count": 1,
   "id": "6b62d2a8",
   "metadata": {},
   "outputs": [],
   "source": [
    "import nltk"
   ]
  },
  {
   "cell_type": "code",
   "execution_count": 2,
   "id": "a5227db0",
   "metadata": {},
   "outputs": [],
   "source": [
    "text = \"It is a pleasant day today\"\n",
    "tokenized_text = nltk.word_tokenize(text)"
   ]
  },
  {
   "cell_type": "code",
   "execution_count": 3,
   "id": "10eecd8f",
   "metadata": {},
   "outputs": [
    {
     "data": {
      "text/plain": [
       "[('It', 'PRP'),\n",
       " ('is', 'VBZ'),\n",
       " ('a', 'DT'),\n",
       " ('pleasant', 'JJ'),\n",
       " ('day', 'NN'),\n",
       " ('today', 'NN')]"
      ]
     },
     "execution_count": 3,
     "metadata": {},
     "output_type": "execute_result"
    }
   ],
   "source": [
    "nltk.pos_tag(tokenized_text)"
   ]
  },
  {
   "cell_type": "code",
   "execution_count": 8,
   "id": "49ba8133",
   "metadata": {},
   "outputs": [
    {
     "name": "stdout",
     "output_type": "stream",
     "text": [
      "CC: conjunction, coordinating\n",
      "    & 'n and both but either et for less minus neither nor or plus so\n",
      "    therefore times v. versus vs. whether yet\n"
     ]
    }
   ],
   "source": [
    "nltk.help.upenn_tagset(\"CC\")"
   ]
  },
  {
   "cell_type": "code",
   "execution_count": 5,
   "id": "49c9d5bc",
   "metadata": {},
   "outputs": [
    {
     "data": {
      "text/plain": [
       "('bitch', 'NN')"
      ]
     },
     "execution_count": 5,
     "metadata": {},
     "output_type": "execute_result"
    }
   ],
   "source": [
    "taggedword = nltk.tag.str2tuple(\"bitch/NN\")\n",
    "taggedword"
   ]
  },
  {
   "cell_type": "code",
   "execution_count": null,
   "id": "f7dc74bf",
   "metadata": {},
   "outputs": [],
   "source": []
  },
  {
   "cell_type": "code",
   "execution_count": 6,
   "id": "30d352f2",
   "metadata": {
    "pycharm": {
     "name": "#%%\n"
    }
   },
   "outputs": [
    {
     "name": "stdout",
     "output_type": "stream",
     "text": [
      "After regex: chunk.RegexpParser with 1 stages:\n",
      "RegexpChunkParser with 1 rules:\n",
      "       <ChunkRule: '<NN.?>*<VBD.?>*<JJ.?>*<CC>?'>\n"
     ]
    },
    {
     "data": {
      "image/png": "[encoded data removed]",
      "text/plain": [
       "Tree('S', [Tree('mychunk', [('learn', 'JJ')]), Tree('mychunk', [('php', 'NN')]), ('from', 'IN'), Tree('mychunk', [('guru99', 'NN'), ('and', 'CC')]), ('make', 'VB'), Tree('mychunk', [('study', 'NN'), ('easy', 'JJ')])])"
      ]
     },
     "execution_count": 6,
     "metadata": {},
     "output_type": "execute_result"
    }
   ],
   "source": [
    "from nltk import pos_tag\n",
    "from nltk import RegexpParser\n",
    "text = \"learn php from guru99 and make studying easy\".split()\n",
    "tokens_tag = pos_tag(text)\n",
    "patterns = \"\"\"mychunk:{<NN.?>*<VBD.?>*<JJ.?>*<CC>?}\"\"\"\n",
    "chunker = RegexpParser(patterns)\n",
    "print(\"After regex:\", chunker)\n",
    "output = chunker.parse(tokens_tag)\n",
    "output"
   ]
  },
  {
   "cell_type": "code",
   "execution_count": null,
   "id": "1af70012",
   "metadata": {},
   "outputs": [],
   "source": []
  }
 ],
 "metadata": {
  "kernelspec": {
   "display_name": "Python 3 (ipykernel)",
   "language": "python",
   "name": "python3"
  },
  "language_info": {
   "codemirror_mode": {
    "name": "ipython",
    "version": 3
   },
   "file_extension": ".py",
   "mimetype": "text/x-python",
   "name": "python",
   "nbconvert_exporter": "python",
   "pygments_lexer": "ipython3",
   "version": "3.9.1"
  }
 },
 "nbformat": 4,
 "nbformat_minor": 5
}
